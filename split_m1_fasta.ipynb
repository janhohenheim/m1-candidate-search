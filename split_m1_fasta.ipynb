{
 "cells": [
  {
   "cell_type": "code",
   "execution_count": 5,
   "metadata": {},
   "outputs": [],
   "source": [
    "from typing import List\n",
    "\n",
    "\n",
    "def read_file(file: str) -> List[str]:\n",
    "    \"\"\"Reads a file as a string\"\"\"\n",
    "    with open(file, \"r\") as f:\n",
    "        return f.read()\n",
    "\n",
    "def read_lines(file: str) -> List[str]:\n",
    "    \"\"\"Reads a file and returns a list of lines\"\"\"\n",
    "    with open(file, \"r\") as f:\n",
    "        return f.readlines()\n",
    "\n",
    "def split_fasta(fasta: str, n: int) -> List[str]:\n",
    "    \"\"\"Splits a fasta file into n parts\"\"\"\n",
    "    length = len(fasta)\n",
    "    split_length = length // n\n",
    "    split_fasta = []\n",
    "    for i in range(n):\n",
    "        print(f\"Splitting {i + 1} of {n}\")\n",
    "        begin_of_next_sequence = fasta.find(\">\", (i + 1) * split_length)\n",
    "        end = False\n",
    "        if begin_of_next_sequence == -1:\n",
    "            begin_of_next_sequence = length\n",
    "            end = True\n",
    "        split_fasta.append(fasta[i * split_length : begin_of_next_sequence])\n",
    "        if end:\n",
    "            break\n",
    "    return split_fasta\n",
    "\n",
    "\n",
    "def split_fasta_by_size(fasta: str, size: int) -> List[str]:\n",
    "    \"\"\"Splits a fasta file into parts with a maximum size\"\"\"\n",
    "    length = len(fasta)\n",
    "    split_fasta = []\n",
    "    n = length // size + 1\n",
    "    for i in range(n):\n",
    "        print(f\"Splitting {i + 1} of {n}\")\n",
    "        min_from = i * size\n",
    "        max_to = (i + 1) * size\n",
    "        to = fasta[:max_to].rfind(\">\") if i > 0 else 0\n",
    "        from_ = fasta[:min_from].rfind(\">\") + min_from\n",
    "    return split_fasta\n",
    "\n",
    "\n",
    "def split_single_sequence(fasta: str, n: int) -> List[str]:\n",
    "    \"\"\"Splits a fasta file containing one sequence into n sequences\"\"\"\n",
    "    name_start = fasta.find(\">\")\n",
    "    name_end = fasta.find(\"\\n\")\n",
    "    name = fasta[name_start:name_end]\n",
    "    sequence = fasta[name_end + 1 :]\n",
    "    length = len(fasta)\n",
    "    split_length = length // n\n",
    "    split_fasta = []\n",
    "    for i in range(n):\n",
    "        print(f\"Splitting {i + 1} of {n}\")\n",
    "        start = i * split_length\n",
    "        end = (i + 1) * split_length if i < n - 1 else length\n",
    "        split_fasta.append(f\"{name}\\n{sequence[start:end]}\")\n",
    "    return split_fasta\n",
    "\n",
    "\n",
    "def write_file(name: str, content: str):\n",
    "    \"\"\"Writes a file\"\"\"\n",
    "    with open(name, \"w\") as f:\n",
    "        f.write(content)"
   ]
  },
  {
   "cell_type": "code",
   "execution_count": 6,
   "metadata": {},
   "outputs": [
    {
     "name": "stdout",
     "output_type": "stream",
     "text": [
      "Splitting 1 of 10\n",
      "Splitting 2 of 10\n",
      "Splitting 3 of 10\n",
      "Splitting 4 of 10\n",
      "Splitting 5 of 10\n",
      "Splitting 6 of 10\n",
      "Splitting 7 of 10\n",
      "Splitting 8 of 10\n",
      "Splitting 9 of 10\n",
      "Splitting 10 of 10\n",
      "Splitting 1 of 7\n",
      "Splitting 2 of 7\n",
      "Splitting 3 of 7\n",
      "Splitting 4 of 7\n",
      "Splitting 5 of 7\n",
      "Splitting 6 of 7\n",
      "Splitting 7 of 7\n",
      "Splitting 1 of 5\n",
      "Splitting 2 of 5\n",
      "Splitting 3 of 5\n",
      "Splitting 4 of 5\n",
      "Splitting 5 of 5\n"
     ]
    }
   ],
   "source": [
    "file = \"MI_contigs_canu\"\n",
    "fasta = read_file(f\"data/{file}.fa\")\n",
    "split_contigs = split_fasta(fasta, 10)\n",
    "for i, subfasta in enumerate(split_contigs):\n",
    "    write_file(f\"output/blast/{file}_{i + 1}.fa\", subfasta)\n",
    "\n",
    "file = \"tig00000533_BLAST_X\"\n",
    "fasta = read_file(f\"data/{file}.fa\")\n",
    "split_x = split_single_sequence(fasta, 7)\n",
    "for i, subfasta in enumerate(split_x):\n",
    "    write_file(f\"output/blast/{file}_{i + 1}.fa\", subfasta)\n",
    "\n",
    "file = \"tig00000533_BLAST_Y\"\n",
    "fasta = read_file(f\"data/{file}.fa\")\n",
    "split_y = split_single_sequence(fasta, 5)\n",
    "for i, subfasta in enumerate(split_y):\n",
    "    write_file(f\"output/blast/{file}_{i + 1}.fa\", subfasta)"
   ]
  }
 ],
 "metadata": {
  "kernelspec": {
   "display_name": "Python 3.9.6 64-bit",
   "language": "python",
   "name": "python3"
  },
  "language_info": {
   "codemirror_mode": {
    "name": "ipython",
    "version": 3
   },
   "file_extension": ".py",
   "mimetype": "text/x-python",
   "name": "python",
   "nbconvert_exporter": "python",
   "pygments_lexer": "ipython3",
   "version": "3.9.6"
  },
  "orig_nbformat": 4,
  "vscode": {
   "interpreter": {
    "hash": "31f2aee4e71d21fbe5cf8b01ff0e069b9275f58929596ceb00d14d90e3e16cd6"
   }
  }
 },
 "nbformat": 4,
 "nbformat_minor": 2
}
