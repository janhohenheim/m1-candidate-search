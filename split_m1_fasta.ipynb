{
 "cells": [
  {
   "cell_type": "code",
   "execution_count": 1,
   "metadata": {},
   "outputs": [],
   "source": [
    "from typing import List\n",
    "\n",
    "\n",
    "def read_file(file: str) -> List[str]:\n",
    "    \"\"\"Reads a file and returns a list of lines\"\"\"\n",
    "    with open(file, \"r\") as f:\n",
    "        return f.readlines()\n",
    "\n",
    "\n",
    "def split_fasta(fasta: str, n: int) -> List[str]:\n",
    "    \"\"\"Splits a fasta file into n parts\"\"\"\n",
    "    length = len(fasta)\n",
    "    split_length = length // n\n",
    "    split_fasta = []\n",
    "    for i in range(n):\n",
    "        print(f\"Splitting {i + 1} of {n}\")\n",
    "        begin_of_next_sequence = fasta.find(\">\", (i + 1) * split_length)\n",
    "        end = False\n",
    "        if begin_of_next_sequence == -1:\n",
    "            begin_of_next_sequence = length\n",
    "            end = True\n",
    "        split_fasta.append(fasta[i * split_length : begin_of_next_sequence])\n",
    "        if end:\n",
    "            break\n",
    "    return split_fasta\n",
    "\n",
    "\n",
    "def split_fasta_by_size(fasta: str, size: int) -> List[str]:\n",
    "    \"\"\"Splits a fasta file into parts with a maximum size\"\"\"\n",
    "    length = len(fasta)\n",
    "    split_fasta = []\n",
    "    n = length // size + 1\n",
    "    for i in range(n):\n",
    "        print(f\"Splitting {i + 1} of {n}\")\n",
    "        min_from = i * size\n",
    "        max_to = (i + 1) * size\n",
    "        to = fasta[:max_to].rfind(\">\") if i > 0 else 0\n",
    "        from_ = fasta[:min_from].rfind(\">\") + min_from\n",
    "    return split_fasta\n",
    "\n",
    "\n",
    "def split_single_sequence(fasta: str, n: int) -> List[str]:\n",
    "    \"\"\"Splits a fasta file containing one sequence into n sequences\"\"\"\n",
    "    name_start = fasta.find(\">\")\n",
    "    name_end = fasta.find(\"\\n\")\n",
    "    name = fasta[name_start:name_end]\n",
    "    sequence = fasta[name_end + 1 :]\n",
    "    length = len(fasta)\n",
    "    split_length = length // n\n",
    "    split_fasta = []\n",
    "    for i in range(n):\n",
    "        print(f\"Splitting {i + 1} of {n}\")\n",
    "        start = i * split_length\n",
    "        end = (i + 1) * split_length if i < n - 1 else length\n",
    "        split_fasta.append(f\"{name}\\n{sequence[start:end]}\")\n",
    "    return split_fasta\n",
    "\n",
    "\n",
    "def write_file(name, content):\n",
    "    \"\"\"Writes a file\"\"\"\n",
    "    with open(name, \"w\") as f:\n",
    "        f.write(content)"
   ]
  },
  {
   "cell_type": "code",
   "execution_count": 3,
   "metadata": {},
   "outputs": [
    {
     "name": "stdout",
     "output_type": "stream",
     "text": [
      "Splitting 1 of 10\n"
     ]
    },
    {
     "ename": "AttributeError",
     "evalue": "'list' object has no attribute 'find'",
     "output_type": "error",
     "traceback": [
      "\u001b[0;31m---------------------------------------------------------------------------\u001b[0m",
      "\u001b[0;31mAttributeError\u001b[0m                            Traceback (most recent call last)",
      "Cell \u001b[0;32mIn [3], line 3\u001b[0m\n\u001b[1;32m      1\u001b[0m file \u001b[39m=\u001b[39m \u001b[39m\"\u001b[39m\u001b[39mMI_contigs_canu\u001b[39m\u001b[39m\"\u001b[39m\n\u001b[1;32m      2\u001b[0m fasta \u001b[39m=\u001b[39m read_file(\u001b[39mf\u001b[39m\u001b[39m\"\u001b[39m\u001b[39mdata/\u001b[39m\u001b[39m{\u001b[39;00mfile\u001b[39m}\u001b[39;00m\u001b[39m.fa\u001b[39m\u001b[39m\"\u001b[39m)\n\u001b[0;32m----> 3\u001b[0m split_contigs \u001b[39m=\u001b[39m split_fasta(fasta, \u001b[39m10\u001b[39m)\n\u001b[1;32m      4\u001b[0m \u001b[39mfor\u001b[39;00m i, subfasta \u001b[39min\u001b[39;00m \u001b[39menumerate\u001b[39m(split_contigs):\n\u001b[1;32m      5\u001b[0m     write_file(\u001b[39mf\u001b[39m\u001b[39m\"\u001b[39m\u001b[39moutput/blast/\u001b[39m\u001b[39m{\u001b[39;00mfile\u001b[39m}\u001b[39;00m\u001b[39m_\u001b[39m\u001b[39m{\u001b[39;00mi \u001b[39m+\u001b[39m \u001b[39m1\u001b[39m\u001b[39m}\u001b[39;00m\u001b[39m.fa\u001b[39m\u001b[39m\"\u001b[39m, subfasta)\n",
      "Cell \u001b[0;32mIn [1], line 17\u001b[0m, in \u001b[0;36msplit_fasta\u001b[0;34m(fasta, n)\u001b[0m\n\u001b[1;32m     15\u001b[0m \u001b[39mfor\u001b[39;00m i \u001b[39min\u001b[39;00m \u001b[39mrange\u001b[39m(n):\n\u001b[1;32m     16\u001b[0m     \u001b[39mprint\u001b[39m(\u001b[39mf\u001b[39m\u001b[39m\"\u001b[39m\u001b[39mSplitting \u001b[39m\u001b[39m{\u001b[39;00mi \u001b[39m+\u001b[39m \u001b[39m1\u001b[39m\u001b[39m}\u001b[39;00m\u001b[39m of \u001b[39m\u001b[39m{\u001b[39;00mn\u001b[39m}\u001b[39;00m\u001b[39m\"\u001b[39m)\n\u001b[0;32m---> 17\u001b[0m     begin_of_next_sequence \u001b[39m=\u001b[39m fasta\u001b[39m.\u001b[39;49mfind(\u001b[39m\"\u001b[39m\u001b[39m>\u001b[39m\u001b[39m\"\u001b[39m, (i \u001b[39m+\u001b[39m \u001b[39m1\u001b[39m) \u001b[39m*\u001b[39m split_length)\n\u001b[1;32m     18\u001b[0m     end \u001b[39m=\u001b[39m \u001b[39mFalse\u001b[39;00m\n\u001b[1;32m     19\u001b[0m     \u001b[39mif\u001b[39;00m begin_of_next_sequence \u001b[39m==\u001b[39m \u001b[39m-\u001b[39m\u001b[39m1\u001b[39m:\n",
      "\u001b[0;31mAttributeError\u001b[0m: 'list' object has no attribute 'find'"
     ]
    }
   ],
   "source": [
    "file = \"MI_contigs_canu\"\n",
    "fasta = read_file(f\"data/{file}.fa\")\n",
    "split_contigs = split_fasta(fasta, 10)\n",
    "for i, subfasta in enumerate(split_contigs):\n",
    "    write_file(f\"output/blast/{file}_{i + 1}.fa\", subfasta)\n",
    "\n",
    "file = \"tig00000533_BLAST_X\"\n",
    "fasta = read_file(f\"data/{file}.fa\")\n",
    "split_x = split_single_sequence(fasta, 7)\n",
    "for i, subfasta in enumerate(split_x):\n",
    "    write_file(f\"output/blast/{file}_{i + 1}.fa\", subfasta)\n",
    "\n",
    "file = \"tig00000533_BLAST_Y\"\n",
    "fasta = read_file(f\"data/{file}.fa\")\n",
    "split_y = split_single_sequence(fasta, 5)\n",
    "for i, subfasta in enumerate(split_y):\n",
    "    write_file(f\"output/blast/{file}_{i + 1}.fa\", subfasta)"
   ]
  }
 ],
 "metadata": {
  "kernelspec": {
   "display_name": "Python 3.10.8 64-bit",
   "language": "python",
   "name": "python3"
  },
  "language_info": {
   "codemirror_mode": {
    "name": "ipython",
    "version": 3
   },
   "file_extension": ".py",
   "mimetype": "text/x-python",
   "name": "python",
   "nbconvert_exporter": "python",
   "pygments_lexer": "ipython3",
   "version": "3.10.8"
  },
  "orig_nbformat": 4,
  "vscode": {
   "interpreter": {
    "hash": "aee8b7b246df8f9039afb4144a1f6fd8d2ca17a180786b69acc140d282b71a49"
   }
  }
 },
 "nbformat": 4,
 "nbformat_minor": 2
}
