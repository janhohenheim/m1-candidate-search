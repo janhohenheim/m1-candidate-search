{
 "cells": [
  {
   "cell_type": "code",
   "execution_count": 31,
   "metadata": {},
   "outputs": [],
   "source": [
    "import csv\n",
    "\n",
    "\n",
    "def read_contigs(file: str) -> list[str]:\n",
    "    with open(file, 'r') as f:\n",
    "        reader = csv.reader(f)\n",
    "        return [row[0] for row in reader][1:]\n",
    "\n",
    "def read_contigs_from_fasta(fasta: str, contigs_of_interest: list[str]) -> list[str]:\n",
    "    contigs = {}\n",
    "    with open(fasta, 'r') as f:\n",
    "        in_contig = False\n",
    "        for line in f:\n",
    "            if line.startswith('>'):\n",
    "                contig = line[1:].split(' ')[0].strip()\n",
    "                in_contig = contig in contigs_of_interest\n",
    "                if in_contig:\n",
    "                    key = line\n",
    "                    contigs[key] = []\n",
    "            else:\n",
    "                if in_contig:\n",
    "                    contigs[key].append(line)\n",
    "    return contigs\n",
    "\n",
    "contigs_of_interest = read_contigs('output/blast/m1_contigs_filtered.csv')\n",
    "contigs = read_contigs_from_fasta('data/MI_contigs_canu.fa', contigs_of_interest)"
   ]
  },
  {
   "cell_type": "code",
   "execution_count": 32,
   "metadata": {},
   "outputs": [],
   "source": [
    "def write_contigs(contigs: dict[str, list[str]], file: str) -> None:\n",
    "    with open(file, 'w') as f:\n",
    "        for contig, seq in contigs.items():\n",
    "            f.writelines([contig] + seq)\n",
    "\n",
    "write_contigs(contigs, 'output/blast/MI_contigs_filtered.fa')"
   ]
  }
 ],
 "metadata": {
  "kernelspec": {
   "display_name": "Python 3.9.6 64-bit",
   "language": "python",
   "name": "python3"
  },
  "language_info": {
   "codemirror_mode": {
    "name": "ipython",
    "version": 3
   },
   "file_extension": ".py",
   "mimetype": "text/x-python",
   "name": "python",
   "nbconvert_exporter": "python",
   "pygments_lexer": "ipython3",
   "version": "3.9.6"
  },
  "orig_nbformat": 4,
  "vscode": {
   "interpreter": {
    "hash": "31f2aee4e71d21fbe5cf8b01ff0e069b9275f58929596ceb00d14d90e3e16cd6"
   }
  }
 },
 "nbformat": 4,
 "nbformat_minor": 2
}
