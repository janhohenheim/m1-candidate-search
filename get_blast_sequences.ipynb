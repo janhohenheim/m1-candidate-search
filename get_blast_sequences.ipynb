{
 "cells": [
  {
   "cell_type": "code",
   "execution_count": 1,
   "metadata": {},
   "outputs": [
    {
     "name": "stdout",
     "output_type": "stream",
     "text": [
      "{'qaccver': 'tig00000533_7_9m_to_8_9m', 'saccver': 'tig00009311', 'pident': '99.915', 'length': '102315', 'mismatch': '48', 'gapopen': '19', 'qstart': '349837', 'qend': '452136', 'sstart': '892040', 'send': '994330', 'evalue': '0.0', 'bitscore': '1.884e+005'}\n"
     ]
    }
   ],
   "source": [
    "from typing import List, Dict\n",
    "\n",
    "def read_csv_with_header(file: str) -> List[Dict[str, str]]:\n",
    "    \"\"\"Read a CSV file with a header and return a list of dictionaries.\"\"\"\n",
    "    with open(file) as f:\n",
    "        header = [s.strip() for s in f.readline().strip().split(',')]\n",
    "        return [dict(zip(header, line.strip().split(','))) for line in f]\n",
    "\n",
    "blast = read_csv_with_header('output/blast/blast_7_9m_to_8_9m_with_known_contigs_head.csv')\n",
    "print(blast[0])"
   ]
  },
  {
   "cell_type": "code",
   "execution_count": 2,
   "metadata": {},
   "outputs": [],
   "source": [
    "def fix_sequence_order(blast: List[Dict[str, str]]) -> None:\n",
    "    \"\"\"Ensure send is always bigger than sstart\"\"\"\n",
    "    for b in blast:\n",
    "        if int(b['sstart']) > int(b['send']):\n",
    "            b['sstart'], b['send'] = b['send'], b['sstart']\n",
    "        if int(b['qstart']) > int(b['qend']):\n",
    "            b['qstart'], b['qend'] = b['qend'], b['qstart']\n",
    "\n",
    "fix_sequence_order(blast)\n"
   ]
  },
  {
   "cell_type": "code",
   "execution_count": 3,
   "metadata": {},
   "outputs": [
    {
     "name": "stdout",
     "output_type": "stream",
     "text": [
      "{'qaccver': 'tig00000533_7_9m_to_8_9m', 'saccver': 'tig00000002', 'pident': '93.496', 'length': '123', 'mismatch': '6', 'gapopen': '2', 'qstart': '443667', 'qend': '443789', 'sstart': '1', 'send': '121', 'evalue': '1.67e-040', 'bitscore': '182'}\n",
      "{'qaccver': 'tig00000533_7_9m_to_8_9m', 'saccver': 'tig00000002', 'pident': '78.238', 'length': '749', 'mismatch': '118', 'gapopen': '32', 'qstart': '20302', 'qend': '21033', 'sstart': '20263', 'send': '20983', 'evalue': '8.97e-118', 'bitscore': '438'}\n"
     ]
    }
   ],
   "source": [
    "def sort_blast_by_contig_and_start(blast: List[Dict[str, str]], start_name: str) -> List[Dict[str, str]]:\n",
    "    \"\"\"Sorts blast results by contig and start position.\"\"\"\n",
    "    return sorted(blast, key=lambda x: (x['saccver'], int(x[start_name])))\n",
    "\n",
    "survey_blast_sorted = sort_blast_by_contig_and_start(blast, 'sstart')\n",
    "query_blast_sorted = sort_blast_by_contig_and_start(blast, 'qstart')\n",
    "print(survey_blast_sorted[0])\n",
    "print(query_blast_sorted[0])"
   ]
  },
  {
   "cell_type": "code",
   "execution_count": 4,
   "metadata": {},
   "outputs": [],
   "source": [
    "def get_nonoverlapping_sequences(blast: List[Dict[str, str]], start_name: str, end_name: str) -> List[Dict[str, str]]:\n",
    "    \"\"\"Concats overlapping sequences from blast results into long aligned sequences.\"\"\"\n",
    "    sequences = []\n",
    "    current_sequence = {\n",
    "        \"contig\": blast[0]['saccver'],\n",
    "        \"start\": blast[0][start_name],\n",
    "        \"end\": blast[0][end_name],\n",
    "    }\n",
    "\n",
    "    for row in blast[1:]:\n",
    "        try:\n",
    "            if row['saccver'] != current_sequence['contig']:\n",
    "                sequences.append(current_sequence)\n",
    "                current_sequence = {\n",
    "                    \"contig\": row['saccver'],\n",
    "                    \"start\": row[start_name],\n",
    "                    \"end\": row[end_name],\n",
    "                }\n",
    "            elif int(row[start_name]) > int(current_sequence['end']):\n",
    "                sequences.append(current_sequence)\n",
    "                current_sequence = {\n",
    "                    \"contig\": row['saccver'],\n",
    "                    \"start\": row[start_name],\n",
    "                    \"end\": row[end_name],\n",
    "                }\n",
    "            elif int(row[end_name]) > int(current_sequence['end']):\n",
    "                current_sequence['end'] = row[end_name]\n",
    "        except Exception as e:\n",
    "            print(row)\n",
    "            print(e)\n",
    "            raise e\n",
    "\n",
    "    sequences.append(current_sequence)\n",
    "    return sequences\n",
    "    \n",
    "survey_sequences = get_nonoverlapping_sequences(survey_blast_sorted, 'sstart', 'send')\n",
    "query_sequences = get_nonoverlapping_sequences(query_blast_sorted, 'qstart', 'qend')"
   ]
  },
  {
   "cell_type": "code",
   "execution_count": 5,
   "metadata": {},
   "outputs": [],
   "source": [
    "def write_csv_with_header(file: str, data: List[Dict[str, str]]) -> None:\n",
    "    \"\"\"Write a CSV file with a header.\"\"\"\n",
    "    with open(file, 'w') as f:\n",
    "        header = data[0].keys()\n",
    "        f.write(','.join(header))\n",
    "        f.write('\\n')\n",
    "        for row in data:\n",
    "            f.write(','.join([row[key] for key in header]))\n",
    "            f.write('\\n')\n",
    "\n",
    "write_csv_with_header('output/blast/align_7_9m_to_8_9m_survey.csv', survey_sequences)\n",
    "write_csv_with_header('output/blast/align_7_9m_to_8_9m_query.csv', query_sequences)"
   ]
  }
 ],
 "metadata": {
  "kernelspec": {
   "display_name": "Python 3.12.0a1 64-bit ('3.12.0a1')",
   "language": "python",
   "name": "python3"
  },
  "language_info": {
   "codemirror_mode": {
    "name": "ipython",
    "version": 3
   },
   "file_extension": ".py",
   "mimetype": "text/x-python",
   "name": "python",
   "nbconvert_exporter": "python",
   "pygments_lexer": "ipython3",
   "version": "3.12.0"
  },
  "orig_nbformat": 4,
  "vscode": {
   "interpreter": {
    "hash": "f1ee771f172dcc4dd079061eefc111180826581f533d6280e48b9e743f63540f"
   }
  }
 },
 "nbformat": 4,
 "nbformat_minor": 2
}
